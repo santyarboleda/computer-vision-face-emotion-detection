{
 "cells": [
  {
   "cell_type": "markdown",
   "id": "4c89bde1",
   "metadata": {},
   "source": [
    "## Entrenar Modelo con Tensor Flow\n",
    "\n",
    "En este notebook usaremos una red neuronal para realizar el entranmiento, sin hacer la limpieza de los datos, como bien se realizo para el notebook train-mode.ipynb"
   ]
  },
  {
   "cell_type": "code",
   "execution_count": 1,
   "id": "6f6ef629-04ae-455e-adfd-80f9812f8f79",
   "metadata": {
    "tags": []
   },
   "outputs": [
    {
     "name": "stderr",
     "output_type": "stream",
     "text": [
      "2024-08-26 20:13:03.493346: I tensorflow/core/util/port.cc:113] oneDNN custom operations are on. You may see slightly different numerical results due to floating-point round-off errors from different computation orders. To turn them off, set the environment variable `TF_ENABLE_ONEDNN_OPTS=0`.\n",
      "2024-08-26 20:13:03.509024: E external/local_xla/xla/stream_executor/cuda/cuda_fft.cc:479] Unable to register cuFFT factory: Attempting to register factory for plugin cuFFT when one has already been registered\n",
      "2024-08-26 20:13:03.533373: E external/local_xla/xla/stream_executor/cuda/cuda_dnn.cc:10575] Unable to register cuDNN factory: Attempting to register factory for plugin cuDNN when one has already been registered\n",
      "2024-08-26 20:13:03.533405: E external/local_xla/xla/stream_executor/cuda/cuda_blas.cc:1442] Unable to register cuBLAS factory: Attempting to register factory for plugin cuBLAS when one has already been registered\n",
      "2024-08-26 20:13:03.548339: I tensorflow/core/platform/cpu_feature_guard.cc:210] This TensorFlow binary is optimized to use available CPU instructions in performance-critical operations.\n",
      "To enable the following instructions: AVX2 AVX512F AVX512_VNNI FMA, in other operations, rebuild TensorFlow with the appropriate compiler flags.\n",
      "2024-08-26 20:13:04.381704: W tensorflow/compiler/tf2tensorrt/utils/py_utils.cc:38] TF-TRT Warning: Could not find TensorRT\n"
     ]
    }
   ],
   "source": [
    "import numpy as np\n",
    "import tensorflow as tf\n",
    "from sklearn.model_selection import train_test_split\n",
    "from sklearn.metrics import accuracy_score, confusion_matrix\n",
    "from tensorflow.keras import regularizers"
   ]
  },
  {
   "cell_type": "markdown",
   "id": "ce3685f0",
   "metadata": {},
   "source": [
    "Se cargan los datos"
   ]
  },
  {
   "cell_type": "code",
   "execution_count": 2,
   "id": "d9818386-ff3c-4088-91d6-04c65a78a751",
   "metadata": {
    "tags": []
   },
   "outputs": [],
   "source": [
    "# Load data\n",
    "data_file = \"data.txt\"\n",
    "data = np.loadtxt(data_file)"
   ]
  },
  {
   "cell_type": "markdown",
   "id": "46b41730",
   "metadata": {},
   "source": [
    "Separamos las clases y las características"
   ]
  },
  {
   "cell_type": "code",
   "execution_count": 3,
   "id": "7675d121-3463-4262-bd18-2ac9798e7d4d",
   "metadata": {
    "tags": []
   },
   "outputs": [],
   "source": [
    "# Split data into features (X) and labels (y)\n",
    "X = data[:, :-1]  # Features are all columns except the last one\n",
    "y = data[:, -1]   # Labels are the last column"
   ]
  },
  {
   "cell_type": "markdown",
   "id": "3ce71232",
   "metadata": {},
   "source": [
    "Separamos el conjunto de datos en train y test"
   ]
  },
  {
   "cell_type": "code",
   "execution_count": 4,
   "id": "4a0e33ad-29a6-473c-bd3f-41377f2afde6",
   "metadata": {
    "tags": []
   },
   "outputs": [],
   "source": [
    "# Split the data into training and testing sets\n",
    "X_train, X_test, y_train, y_test = train_test_split(X, y, test_size=0.2, random_state=42, stratify=y)"
   ]
  },
  {
   "cell_type": "markdown",
   "id": "f52ca42f",
   "metadata": {},
   "source": [
    "Normalizamos los datos para pasarlo por la red neuronal"
   ]
  },
  {
   "cell_type": "code",
   "execution_count": 5,
   "id": "4a44aa40-ff53-469d-af8c-4018650b7996",
   "metadata": {
    "tags": []
   },
   "outputs": [],
   "source": [
    "# Normalize the data (important for neural networks)\n",
    "X_train = X_train / np.max(X_train)\n",
    "X_test = X_test / np.max(X_test)"
   ]
  },
  {
   "cell_type": "markdown",
   "id": "36c08fa9",
   "metadata": {},
   "source": [
    "Convertimos variables categoricas a numericas usando one-hot encoding"
   ]
  },
  {
   "cell_type": "code",
   "execution_count": 6,
   "id": "513962b3-ebd1-4eb3-93d1-65c13acfcdfd",
   "metadata": {
    "tags": []
   },
   "outputs": [],
   "source": [
    "# Convert labels to categorical (one-hot encoding)\n",
    "y_train = tf.keras.utils.to_categorical(y_train, num_classes=3)  # Adjust num_classes as needed\n",
    "y_test = tf.keras.utils.to_categorical(y_test, num_classes=3)"
   ]
  },
  {
   "cell_type": "markdown",
   "id": "baf1edfb",
   "metadata": {},
   "source": [
    "Configuramos una red neuronal convolucional CNN con una función de activación softmax en la ultima capa para las 3 clases"
   ]
  },
  {
   "cell_type": "code",
   "execution_count": 7,
   "id": "47e566b2-2882-4f4b-920d-cc0096d085d8",
   "metadata": {
    "tags": []
   },
   "outputs": [
    {
     "name": "stderr",
     "output_type": "stream",
     "text": [
      "2024-08-26 20:13:06.250327: I external/local_xla/xla/stream_executor/cuda/cuda_executor.cc:998] successful NUMA node read from SysFS had negative value (-1), but there must be at least one NUMA node, so returning NUMA node zero. See more at https://github.com/torvalds/linux/blob/v6.0/Documentation/ABI/testing/sysfs-bus-pci#L344-L355\n",
      "2024-08-26 20:13:06.300308: I external/local_xla/xla/stream_executor/cuda/cuda_executor.cc:998] successful NUMA node read from SysFS had negative value (-1), but there must be at least one NUMA node, so returning NUMA node zero. See more at https://github.com/torvalds/linux/blob/v6.0/Documentation/ABI/testing/sysfs-bus-pci#L344-L355\n",
      "2024-08-26 20:13:06.303351: I external/local_xla/xla/stream_executor/cuda/cuda_executor.cc:998] successful NUMA node read from SysFS had negative value (-1), but there must be at least one NUMA node, so returning NUMA node zero. See more at https://github.com/torvalds/linux/blob/v6.0/Documentation/ABI/testing/sysfs-bus-pci#L344-L355\n",
      "2024-08-26 20:13:06.307052: I external/local_xla/xla/stream_executor/cuda/cuda_executor.cc:998] successful NUMA node read from SysFS had negative value (-1), but there must be at least one NUMA node, so returning NUMA node zero. See more at https://github.com/torvalds/linux/blob/v6.0/Documentation/ABI/testing/sysfs-bus-pci#L344-L355\n",
      "2024-08-26 20:13:06.309876: I external/local_xla/xla/stream_executor/cuda/cuda_executor.cc:998] successful NUMA node read from SysFS had negative value (-1), but there must be at least one NUMA node, so returning NUMA node zero. See more at https://github.com/torvalds/linux/blob/v6.0/Documentation/ABI/testing/sysfs-bus-pci#L344-L355\n",
      "2024-08-26 20:13:06.312491: I external/local_xla/xla/stream_executor/cuda/cuda_executor.cc:998] successful NUMA node read from SysFS had negative value (-1), but there must be at least one NUMA node, so returning NUMA node zero. See more at https://github.com/torvalds/linux/blob/v6.0/Documentation/ABI/testing/sysfs-bus-pci#L344-L355\n",
      "2024-08-26 20:13:06.454821: I external/local_xla/xla/stream_executor/cuda/cuda_executor.cc:998] successful NUMA node read from SysFS had negative value (-1), but there must be at least one NUMA node, so returning NUMA node zero. See more at https://github.com/torvalds/linux/blob/v6.0/Documentation/ABI/testing/sysfs-bus-pci#L344-L355\n",
      "2024-08-26 20:13:06.455930: I external/local_xla/xla/stream_executor/cuda/cuda_executor.cc:998] successful NUMA node read from SysFS had negative value (-1), but there must be at least one NUMA node, so returning NUMA node zero. See more at https://github.com/torvalds/linux/blob/v6.0/Documentation/ABI/testing/sysfs-bus-pci#L344-L355\n",
      "2024-08-26 20:13:06.456913: I external/local_xla/xla/stream_executor/cuda/cuda_executor.cc:998] successful NUMA node read from SysFS had negative value (-1), but there must be at least one NUMA node, so returning NUMA node zero. See more at https://github.com/torvalds/linux/blob/v6.0/Documentation/ABI/testing/sysfs-bus-pci#L344-L355\n",
      "2024-08-26 20:13:06.457825: I tensorflow/core/common_runtime/gpu/gpu_device.cc:1928] Created device /job:localhost/replica:0/task:0/device:GPU:0 with 13775 MB memory:  -> device: 0, name: Tesla T4, pci bus id: 0000:00:1e.0, compute capability: 7.5\n"
     ]
    }
   ],
   "source": [
    "# Define a fully connected neural network (MLP)\n",
    "model = tf.keras.Sequential([\n",
    "    tf.keras.layers.Dense(256, activation='relu', input_shape=(X_train.shape[1],)),  # Más neuronas\n",
    "    tf.keras.layers.Dense(128, activation='relu'),\n",
    "    tf.keras.layers.Dense(64, activation='relu'),\n",
    "    tf.keras.layers.Dense(3, activation='softmax')  # Cambiar a 3 clases\n",
    "])"
   ]
  },
  {
   "cell_type": "code",
   "execution_count": 8,
   "id": "d24e5e76-3e21-4573-bd8f-8b7bfca022af",
   "metadata": {
    "tags": []
   },
   "outputs": [],
   "source": [
    "# Compile the model\n",
    "model.compile(optimizer='adam',\n",
    "              loss='categorical_crossentropy',\n",
    "              metrics=['accuracy'])\n"
   ]
  },
  {
   "cell_type": "markdown",
   "id": "0689d7d2",
   "metadata": {},
   "source": [
    "Realizamos el entrenamiento del modelo"
   ]
  },
  {
   "cell_type": "code",
   "execution_count": 9,
   "id": "e09dac7a-6ec7-4311-a216-4de3b5cbb297",
   "metadata": {
    "tags": []
   },
   "outputs": [
    {
     "name": "stdout",
     "output_type": "stream",
     "text": [
      "Epoch 1/80\n"
     ]
    },
    {
     "name": "stderr",
     "output_type": "stream",
     "text": [
      "WARNING: All log messages before absl::InitializeLog() is called are written to STDERR\n",
      "I0000 00:00:1724703198.901177    3076 service.cc:145] XLA service 0x7f8c78c07250 initialized for platform CUDA (this does not guarantee that XLA will be used). Devices:\n",
      "I0000 00:00:1724703198.901214    3076 service.cc:153]   StreamExecutor device (0): Tesla T4, Compute Capability 7.5\n",
      "2024-08-26 20:13:18.907892: I tensorflow/compiler/mlir/tensorflow/utils/dump_mlir_util.cc:268] disabling MLIR crash reproducer, set env var `MLIR_CRASH_REPRODUCER_DIRECTORY` to enable.\n",
      "2024-08-26 20:13:18.927069: I external/local_xla/xla/stream_executor/cuda/cuda_dnn.cc:465] Loaded cuDNN version 8907\n",
      "I0000 00:00:1724703198.985390    3076 device_compiler.h:188] Compiled cluster using XLA!  This line is logged at most once for the lifetime of the process.\n"
     ]
    },
    {
     "name": "stdout",
     "output_type": "stream",
     "text": [
      "13/13 [==============================] - 13s 39ms/step - loss: 1.1364 - accuracy: 0.3375 - val_loss: 1.1287 - val_accuracy: 0.3200\n",
      "Epoch 2/80\n",
      "13/13 [==============================] - 0s 5ms/step - loss: 1.1112 - accuracy: 0.3098 - val_loss: 1.0898 - val_accuracy: 0.3200\n",
      "Epoch 3/80\n",
      "13/13 [==============================] - 0s 5ms/step - loss: 1.1046 - accuracy: 0.3375 - val_loss: 1.0907 - val_accuracy: 0.3200\n",
      "Epoch 4/80\n",
      "13/13 [==============================] - 0s 5ms/step - loss: 1.1021 - accuracy: 0.3577 - val_loss: 1.0918 - val_accuracy: 0.3500\n",
      "Epoch 5/80\n",
      "13/13 [==============================] - 0s 5ms/step - loss: 1.0854 - accuracy: 0.3577 - val_loss: 1.0770 - val_accuracy: 0.3400\n",
      "Epoch 6/80\n",
      "13/13 [==============================] - 0s 5ms/step - loss: 1.0923 - accuracy: 0.3426 - val_loss: 1.0695 - val_accuracy: 0.3500\n",
      "Epoch 7/80\n",
      "13/13 [==============================] - 0s 5ms/step - loss: 1.0655 - accuracy: 0.4710 - val_loss: 1.0499 - val_accuracy: 0.5300\n",
      "Epoch 8/80\n",
      "13/13 [==============================] - 0s 5ms/step - loss: 1.0540 - accuracy: 0.4509 - val_loss: 1.0354 - val_accuracy: 0.5600\n",
      "Epoch 9/80\n",
      "13/13 [==============================] - 0s 5ms/step - loss: 1.0399 - accuracy: 0.4383 - val_loss: 0.9979 - val_accuracy: 0.5600\n",
      "Epoch 10/80\n",
      "13/13 [==============================] - 0s 5ms/step - loss: 1.0009 - accuracy: 0.4962 - val_loss: 1.0191 - val_accuracy: 0.4300\n",
      "Epoch 11/80\n",
      "13/13 [==============================] - 0s 5ms/step - loss: 0.9865 - accuracy: 0.5013 - val_loss: 0.9580 - val_accuracy: 0.5800\n",
      "Epoch 12/80\n",
      "13/13 [==============================] - 0s 5ms/step - loss: 0.9904 - accuracy: 0.4584 - val_loss: 1.0120 - val_accuracy: 0.4600\n",
      "Epoch 13/80\n",
      "13/13 [==============================] - 0s 5ms/step - loss: 0.9422 - accuracy: 0.5718 - val_loss: 0.9211 - val_accuracy: 0.5200\n",
      "Epoch 14/80\n",
      "13/13 [==============================] - 0s 5ms/step - loss: 0.8878 - accuracy: 0.5743 - val_loss: 0.9200 - val_accuracy: 0.5300\n",
      "Epoch 15/80\n",
      "13/13 [==============================] - 0s 5ms/step - loss: 0.8608 - accuracy: 0.6348 - val_loss: 0.8050 - val_accuracy: 0.6700\n",
      "Epoch 16/80\n",
      "13/13 [==============================] - 0s 5ms/step - loss: 0.7830 - accuracy: 0.6423 - val_loss: 0.7679 - val_accuracy: 0.6700\n",
      "Epoch 17/80\n",
      "13/13 [==============================] - 0s 5ms/step - loss: 0.8268 - accuracy: 0.6196 - val_loss: 0.8347 - val_accuracy: 0.6200\n",
      "Epoch 18/80\n",
      "13/13 [==============================] - 0s 5ms/step - loss: 0.8505 - accuracy: 0.5970 - val_loss: 0.9940 - val_accuracy: 0.4800\n",
      "Epoch 19/80\n",
      "13/13 [==============================] - 0s 5ms/step - loss: 0.8542 - accuracy: 0.5416 - val_loss: 0.8344 - val_accuracy: 0.5600\n",
      "Epoch 20/80\n",
      "13/13 [==============================] - 0s 5ms/step - loss: 0.8567 - accuracy: 0.5995 - val_loss: 0.7925 - val_accuracy: 0.5800\n",
      "Epoch 21/80\n",
      "13/13 [==============================] - 0s 5ms/step - loss: 0.8105 - accuracy: 0.6247 - val_loss: 0.6986 - val_accuracy: 0.7300\n",
      "Epoch 22/80\n",
      "13/13 [==============================] - 0s 5ms/step - loss: 0.6773 - accuracy: 0.7355 - val_loss: 0.6626 - val_accuracy: 0.7200\n",
      "Epoch 23/80\n",
      "13/13 [==============================] - 0s 5ms/step - loss: 0.6686 - accuracy: 0.7179 - val_loss: 0.6585 - val_accuracy: 0.7200\n",
      "Epoch 24/80\n",
      "13/13 [==============================] - 0s 5ms/step - loss: 0.6901 - accuracy: 0.7103 - val_loss: 0.7509 - val_accuracy: 0.6900\n",
      "Epoch 25/80\n",
      "13/13 [==============================] - 0s 5ms/step - loss: 0.6655 - accuracy: 0.7179 - val_loss: 0.6151 - val_accuracy: 0.7300\n",
      "Epoch 26/80\n",
      "13/13 [==============================] - 0s 5ms/step - loss: 0.6768 - accuracy: 0.7028 - val_loss: 0.5648 - val_accuracy: 0.7400\n",
      "Epoch 27/80\n",
      "13/13 [==============================] - 0s 5ms/step - loss: 0.6063 - accuracy: 0.7380 - val_loss: 0.5977 - val_accuracy: 0.7400\n",
      "Epoch 28/80\n",
      "13/13 [==============================] - 0s 5ms/step - loss: 0.6242 - accuracy: 0.7380 - val_loss: 0.5423 - val_accuracy: 0.7500\n",
      "Epoch 29/80\n",
      "13/13 [==============================] - 0s 5ms/step - loss: 0.5824 - accuracy: 0.7683 - val_loss: 0.5271 - val_accuracy: 0.7500\n",
      "Epoch 30/80\n",
      "13/13 [==============================] - 0s 5ms/step - loss: 0.5863 - accuracy: 0.7431 - val_loss: 0.5280 - val_accuracy: 0.7800\n",
      "Epoch 31/80\n",
      "13/13 [==============================] - 0s 5ms/step - loss: 0.5670 - accuracy: 0.7557 - val_loss: 0.5584 - val_accuracy: 0.7300\n",
      "Epoch 32/80\n",
      "13/13 [==============================] - 0s 5ms/step - loss: 0.6276 - accuracy: 0.7154 - val_loss: 0.4885 - val_accuracy: 0.7800\n",
      "Epoch 33/80\n",
      "13/13 [==============================] - 0s 5ms/step - loss: 0.5020 - accuracy: 0.7985 - val_loss: 0.5521 - val_accuracy: 0.7500\n",
      "Epoch 34/80\n",
      "13/13 [==============================] - 0s 5ms/step - loss: 0.5190 - accuracy: 0.7783 - val_loss: 0.4683 - val_accuracy: 0.7800\n",
      "Epoch 35/80\n",
      "13/13 [==============================] - 0s 5ms/step - loss: 0.4806 - accuracy: 0.8035 - val_loss: 0.4879 - val_accuracy: 0.7700\n",
      "Epoch 36/80\n",
      "13/13 [==============================] - 0s 5ms/step - loss: 0.4791 - accuracy: 0.7909 - val_loss: 0.5784 - val_accuracy: 0.7000\n",
      "Epoch 37/80\n",
      "13/13 [==============================] - 0s 5ms/step - loss: 0.5183 - accuracy: 0.7783 - val_loss: 0.4615 - val_accuracy: 0.7800\n",
      "Epoch 38/80\n",
      "13/13 [==============================] - 0s 5ms/step - loss: 0.4761 - accuracy: 0.8086 - val_loss: 0.4368 - val_accuracy: 0.7800\n",
      "Epoch 39/80\n",
      "13/13 [==============================] - 0s 5ms/step - loss: 0.4862 - accuracy: 0.7834 - val_loss: 0.4536 - val_accuracy: 0.7600\n",
      "Epoch 40/80\n",
      "13/13 [==============================] - 0s 5ms/step - loss: 0.4699 - accuracy: 0.8212 - val_loss: 0.3944 - val_accuracy: 0.8200\n",
      "Epoch 41/80\n",
      "13/13 [==============================] - 0s 5ms/step - loss: 0.4629 - accuracy: 0.8161 - val_loss: 0.7473 - val_accuracy: 0.6400\n",
      "Epoch 42/80\n",
      "13/13 [==============================] - 0s 5ms/step - loss: 0.5043 - accuracy: 0.7909 - val_loss: 0.3989 - val_accuracy: 0.8300\n",
      "Epoch 43/80\n",
      "13/13 [==============================] - 0s 5ms/step - loss: 0.4488 - accuracy: 0.8086 - val_loss: 0.4199 - val_accuracy: 0.8100\n",
      "Epoch 44/80\n",
      "13/13 [==============================] - 0s 5ms/step - loss: 0.4067 - accuracy: 0.8338 - val_loss: 0.4139 - val_accuracy: 0.8100\n",
      "Epoch 45/80\n",
      "13/13 [==============================] - 0s 5ms/step - loss: 0.4357 - accuracy: 0.8237 - val_loss: 0.3672 - val_accuracy: 0.8700\n",
      "Epoch 46/80\n",
      "13/13 [==============================] - 0s 5ms/step - loss: 0.4599 - accuracy: 0.7884 - val_loss: 0.6461 - val_accuracy: 0.7100\n",
      "Epoch 47/80\n",
      "13/13 [==============================] - 0s 5ms/step - loss: 0.4486 - accuracy: 0.7985 - val_loss: 0.3949 - val_accuracy: 0.8300\n",
      "Epoch 48/80\n",
      "13/13 [==============================] - 0s 5ms/step - loss: 0.4282 - accuracy: 0.8060 - val_loss: 0.3575 - val_accuracy: 0.8400\n",
      "Epoch 49/80\n",
      "13/13 [==============================] - 0s 5ms/step - loss: 0.3765 - accuracy: 0.8363 - val_loss: 0.3526 - val_accuracy: 0.8100\n",
      "Epoch 50/80\n",
      "13/13 [==============================] - 0s 5ms/step - loss: 0.4668 - accuracy: 0.7834 - val_loss: 0.3466 - val_accuracy: 0.8500\n",
      "Epoch 51/80\n",
      "13/13 [==============================] - 0s 5ms/step - loss: 0.4588 - accuracy: 0.8111 - val_loss: 0.4518 - val_accuracy: 0.8000\n",
      "Epoch 52/80\n",
      "13/13 [==============================] - 0s 5ms/step - loss: 0.4297 - accuracy: 0.8438 - val_loss: 0.3509 - val_accuracy: 0.8500\n",
      "Epoch 53/80\n",
      "13/13 [==============================] - 0s 5ms/step - loss: 0.4493 - accuracy: 0.8186 - val_loss: 0.3651 - val_accuracy: 0.8600\n",
      "Epoch 54/80\n",
      "13/13 [==============================] - 0s 5ms/step - loss: 0.4023 - accuracy: 0.8212 - val_loss: 0.4543 - val_accuracy: 0.7800\n",
      "Epoch 55/80\n",
      "13/13 [==============================] - 0s 5ms/step - loss: 0.4763 - accuracy: 0.7758 - val_loss: 0.4814 - val_accuracy: 0.7400\n",
      "Epoch 56/80\n",
      "13/13 [==============================] - 0s 5ms/step - loss: 0.4472 - accuracy: 0.7884 - val_loss: 0.3809 - val_accuracy: 0.8200\n",
      "Epoch 57/80\n",
      "13/13 [==============================] - 0s 5ms/step - loss: 0.4801 - accuracy: 0.8111 - val_loss: 0.3526 - val_accuracy: 0.8000\n",
      "Epoch 58/80\n",
      "13/13 [==============================] - 0s 5ms/step - loss: 0.5310 - accuracy: 0.7607 - val_loss: 0.4722 - val_accuracy: 0.7500\n",
      "Epoch 59/80\n",
      "13/13 [==============================] - 0s 5ms/step - loss: 0.5090 - accuracy: 0.7582 - val_loss: 0.3751 - val_accuracy: 0.8400\n",
      "Epoch 60/80\n",
      "13/13 [==============================] - 0s 5ms/step - loss: 0.4188 - accuracy: 0.8287 - val_loss: 0.3633 - val_accuracy: 0.8600\n",
      "Epoch 61/80\n",
      "13/13 [==============================] - 0s 5ms/step - loss: 0.3860 - accuracy: 0.8615 - val_loss: 0.3461 - val_accuracy: 0.8500\n",
      "Epoch 62/80\n",
      "13/13 [==============================] - 0s 5ms/step - loss: 0.3494 - accuracy: 0.8589 - val_loss: 0.3837 - val_accuracy: 0.8300\n",
      "Epoch 63/80\n",
      "13/13 [==============================] - 0s 5ms/step - loss: 0.4100 - accuracy: 0.8237 - val_loss: 0.5153 - val_accuracy: 0.8000\n",
      "Epoch 64/80\n",
      "13/13 [==============================] - 0s 5ms/step - loss: 0.6148 - accuracy: 0.7380 - val_loss: 0.4814 - val_accuracy: 0.8000\n",
      "Epoch 65/80\n",
      "13/13 [==============================] - 0s 5ms/step - loss: 0.4603 - accuracy: 0.8035 - val_loss: 0.3453 - val_accuracy: 0.8600\n",
      "Epoch 66/80\n",
      "13/13 [==============================] - 0s 5ms/step - loss: 0.3967 - accuracy: 0.8287 - val_loss: 0.3394 - val_accuracy: 0.8800\n",
      "Epoch 67/80\n",
      "13/13 [==============================] - 0s 5ms/step - loss: 0.3433 - accuracy: 0.8514 - val_loss: 0.3078 - val_accuracy: 0.8900\n",
      "Epoch 68/80\n",
      "13/13 [==============================] - 0s 5ms/step - loss: 0.3857 - accuracy: 0.8338 - val_loss: 0.3435 - val_accuracy: 0.8700\n",
      "Epoch 69/80\n",
      "13/13 [==============================] - 0s 5ms/step - loss: 0.3519 - accuracy: 0.8564 - val_loss: 0.3000 - val_accuracy: 0.8600\n",
      "Epoch 70/80\n",
      "13/13 [==============================] - 0s 5ms/step - loss: 0.4580 - accuracy: 0.8035 - val_loss: 0.6243 - val_accuracy: 0.7400\n",
      "Epoch 71/80\n",
      "13/13 [==============================] - 0s 5ms/step - loss: 0.4702 - accuracy: 0.8086 - val_loss: 0.4427 - val_accuracy: 0.7800\n",
      "Epoch 72/80\n",
      "13/13 [==============================] - 0s 5ms/step - loss: 0.3757 - accuracy: 0.8463 - val_loss: 0.3194 - val_accuracy: 0.8700\n",
      "Epoch 73/80\n",
      "13/13 [==============================] - 0s 5ms/step - loss: 0.4099 - accuracy: 0.8413 - val_loss: 0.3677 - val_accuracy: 0.8400\n",
      "Epoch 74/80\n",
      "13/13 [==============================] - 0s 5ms/step - loss: 0.4215 - accuracy: 0.8338 - val_loss: 0.2957 - val_accuracy: 0.8700\n",
      "Epoch 75/80\n",
      "13/13 [==============================] - 0s 5ms/step - loss: 0.3562 - accuracy: 0.8514 - val_loss: 0.3626 - val_accuracy: 0.8400\n",
      "Epoch 76/80\n",
      "13/13 [==============================] - 0s 5ms/step - loss: 0.3468 - accuracy: 0.8564 - val_loss: 0.2908 - val_accuracy: 0.9100\n",
      "Epoch 77/80\n",
      "13/13 [==============================] - 0s 5ms/step - loss: 0.3275 - accuracy: 0.8715 - val_loss: 0.3075 - val_accuracy: 0.8700\n",
      "Epoch 78/80\n",
      "13/13 [==============================] - 0s 5ms/step - loss: 0.3349 - accuracy: 0.8489 - val_loss: 0.3080 - val_accuracy: 0.8800\n",
      "Epoch 79/80\n",
      "13/13 [==============================] - 0s 5ms/step - loss: 0.3647 - accuracy: 0.8338 - val_loss: 0.4468 - val_accuracy: 0.8000\n",
      "Epoch 80/80\n",
      "13/13 [==============================] - 0s 5ms/step - loss: 0.3545 - accuracy: 0.8539 - val_loss: 0.2860 - val_accuracy: 0.8700\n"
     ]
    },
    {
     "data": {
      "text/plain": [
       "<tf_keras.src.callbacks.History at 0x7f8d445e67d0>"
      ]
     },
     "execution_count": 9,
     "metadata": {},
     "output_type": "execute_result"
    }
   ],
   "source": [
    "# Train the model\n",
    "model.fit(X_train, y_train, epochs=80, batch_size=32, validation_split=0.2)"
   ]
  },
  {
   "cell_type": "markdown",
   "id": "2156cc12",
   "metadata": {},
   "source": [
    "Realizamos la evaluación del modelo"
   ]
  },
  {
   "cell_type": "code",
   "execution_count": 10,
   "id": "de02d23e-e21a-4719-8627-34372183b32a",
   "metadata": {
    "tags": []
   },
   "outputs": [
    {
     "name": "stdout",
     "output_type": "stream",
     "text": [
      "4/4 - 0s - loss: 0.2589 - accuracy: 0.9040 - 29ms/epoch - 7ms/step\n",
      "Test accuracy: 90.40%\n"
     ]
    }
   ],
   "source": [
    "# Evaluate the model on the test data\n",
    "test_loss, test_acc = model.evaluate(X_test, y_test, verbose=2)\n",
    "print(f\"Test accuracy: {test_acc * 100:.2f}%\")"
   ]
  },
  {
   "cell_type": "markdown",
   "id": "f89ab06d",
   "metadata": {},
   "source": [
    "Calculamos la matriz de confusión"
   ]
  },
  {
   "cell_type": "code",
   "execution_count": 11,
   "id": "251fafe1-17a7-41ca-bea6-78c6eb720e7c",
   "metadata": {
    "tags": []
   },
   "outputs": [
    {
     "name": "stdout",
     "output_type": "stream",
     "text": [
      "4/4 [==============================] - 0s 2ms/step\n",
      "[[41  0  1]\n",
      " [ 0 40  1]\n",
      " [ 0 10 32]]\n"
     ]
    }
   ],
   "source": [
    "# Confusion matrix\n",
    "y_pred = np.argmax(model.predict(X_test), axis=1)\n",
    "y_true = np.argmax(y_test, axis=1)\n",
    "print(confusion_matrix(y_true, y_pred))"
   ]
  },
  {
   "cell_type": "code",
   "execution_count": 12,
   "id": "da5f6dc7-bae5-4c85-8904-f91eda6169e1",
   "metadata": {
    "tags": []
   },
   "outputs": [
    {
     "name": "stdout",
     "output_type": "stream",
     "text": [
      "INFO:tensorflow:Assets written to: ./dense_model/assets\n"
     ]
    },
    {
     "name": "stderr",
     "output_type": "stream",
     "text": [
      "INFO:tensorflow:Assets written to: ./dense_model/assets\n"
     ]
    }
   ],
   "source": [
    "# Save the model\n",
    "model.save('./dense_model')"
   ]
  },
  {
   "cell_type": "markdown",
   "id": "8ada1c9e-c175-4d64-bac2-93cd22219a99",
   "metadata": {},
   "source": [
    "## Inferencia"
   ]
  },
  {
   "cell_type": "markdown",
   "id": "8943fc4d",
   "metadata": {},
   "source": [
    "Cargamos el modelo"
   ]
  },
  {
   "cell_type": "code",
   "execution_count": 13,
   "id": "a6eda60f-a304-41a1-9238-51489b1e806c",
   "metadata": {
    "tags": []
   },
   "outputs": [],
   "source": [
    "from tensorflow.keras.models import load_model\n",
    "\n",
    "# Cargar el modelo guardado\n",
    "model = load_model('./dense_model')"
   ]
  },
  {
   "cell_type": "markdown",
   "id": "bb4f6e14",
   "metadata": {},
   "source": [
    "Usamos 3 items del dataset de evaluación"
   ]
  },
  {
   "cell_type": "code",
   "execution_count": 14,
   "id": "545c3002-a0ea-45fe-8979-f2ca966833f6",
   "metadata": {
    "tags": []
   },
   "outputs": [],
   "source": [
    "X_new = np.array([X_test[1],\n",
    "                  X_test[20],  # Ejemplo de nuevo vector de características\n",
    "                  X_test[-1]])"
   ]
  },
  {
   "cell_type": "code",
   "execution_count": 15,
   "id": "9a695423-1b00-4600-94ac-3875161c16c6",
   "metadata": {
    "tags": []
   },
   "outputs": [
    {
     "name": "stdout",
     "output_type": "stream",
     "text": [
      "1/1 [==============================] - 0s 150ms/step\n"
     ]
    }
   ],
   "source": [
    "# Hacer predicciones\n",
    "predictions = model.predict(X_new)"
   ]
  },
  {
   "cell_type": "code",
   "execution_count": 16,
   "id": "d280ea9e-bd21-4bda-989b-f4dd4522e3f3",
   "metadata": {
    "tags": []
   },
   "outputs": [],
   "source": [
    "# Obtener la clase predicha\n",
    "predicted_classes = np.argmax(predictions, axis=1)"
   ]
  },
  {
   "cell_type": "markdown",
   "id": "e622f25f",
   "metadata": {},
   "source": [
    "Clases predichas"
   ]
  },
  {
   "cell_type": "code",
   "execution_count": 17,
   "id": "4da966ae-25bb-46aa-ad96-79622f6ecbd8",
   "metadata": {
    "tags": []
   },
   "outputs": [
    {
     "name": "stdout",
     "output_type": "stream",
     "text": [
      "[0 1 2]\n"
     ]
    }
   ],
   "source": [
    "print(predicted_classes)"
   ]
  },
  {
   "cell_type": "code",
   "execution_count": null,
   "id": "ee671236-b77a-4b60-9dd8-01bf70de554d",
   "metadata": {},
   "outputs": [],
   "source": []
  },
  {
   "cell_type": "code",
   "execution_count": null,
   "id": "de79d5f9-4686-42c3-92b6-cfd463891736",
   "metadata": {},
   "outputs": [],
   "source": []
  }
 ],
 "metadata": {
  "kernelspec": {
   "display_name": "conda_tensorflow2_p310",
   "language": "python",
   "name": "conda_tensorflow2_p310"
  },
  "language_info": {
   "codemirror_mode": {
    "name": "ipython",
    "version": 3
   },
   "file_extension": ".py",
   "mimetype": "text/x-python",
   "name": "python",
   "nbconvert_exporter": "python",
   "pygments_lexer": "ipython3",
   "version": "3.10.14"
  }
 },
 "nbformat": 4,
 "nbformat_minor": 5
}
